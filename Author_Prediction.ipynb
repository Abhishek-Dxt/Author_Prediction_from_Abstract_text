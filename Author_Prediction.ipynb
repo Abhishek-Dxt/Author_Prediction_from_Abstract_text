{
 "cells": [
  {
   "cell_type": "markdown",
   "metadata": {},
   "source": [
    "The Project predicts Author given an abstract text.\n",
    "Texts from Jane Austen an Arthur Conan Doyle are used to train the model. Then using Multinomial Naive Bayes Classifier, the Model predicts the Author."
   ]
  },
  {
   "cell_type": "code",
   "execution_count": 1,
   "metadata": {},
   "outputs": [],
   "source": [
    "import numpy as np\n",
    "import pandas as pd"
   ]
  },
  {
   "cell_type": "markdown",
   "metadata": {},
   "source": [
    "#### Importing datasets and Data preprocessing -"
   ]
  },
  {
   "cell_type": "markdown",
   "metadata": {},
   "source": [
    "Importing Doyle text file -"
   ]
  },
  {
   "cell_type": "code",
   "execution_count": 2,
   "metadata": {},
   "outputs": [],
   "source": [
    "data_doyle = pd.read_csv('Doyle.txt',header=None,sep='delimiter',encoding = 'unicode_escape', engine='python')"
   ]
  },
  {
   "cell_type": "code",
   "execution_count": 3,
   "metadata": {},
   "outputs": [],
   "source": [
    "data_doyle.columns = ['Content']"
   ]
  },
  {
   "cell_type": "code",
   "execution_count": 4,
   "metadata": {},
   "outputs": [],
   "source": [
    "data_doyle['Author'] = 'Conan Doyle'"
   ]
  },
  {
   "cell_type": "code",
   "execution_count": 5,
   "metadata": {},
   "outputs": [
    {
     "data": {
      "text/html": [
       "<div>\n",
       "<style scoped>\n",
       "    .dataframe tbody tr th:only-of-type {\n",
       "        vertical-align: middle;\n",
       "    }\n",
       "\n",
       "    .dataframe tbody tr th {\n",
       "        vertical-align: top;\n",
       "    }\n",
       "\n",
       "    .dataframe thead th {\n",
       "        text-align: right;\n",
       "    }\n",
       "</style>\n",
       "<table border=\"1\" class=\"dataframe\">\n",
       "  <thead>\n",
       "    <tr style=\"text-align: right;\">\n",
       "      <th></th>\n",
       "      <th>Content</th>\n",
       "      <th>Author</th>\n",
       "    </tr>\n",
       "  </thead>\n",
       "  <tbody>\n",
       "    <tr>\n",
       "      <th>0</th>\n",
       "      <td>ï»¿The Project Gutenberg eBook of The Adventur...</td>\n",
       "      <td>Conan Doyle</td>\n",
       "    </tr>\n",
       "    <tr>\n",
       "      <th>1</th>\n",
       "      <td>This eBook is for the use of anyone anywhere i...</td>\n",
       "      <td>Conan Doyle</td>\n",
       "    </tr>\n",
       "    <tr>\n",
       "      <th>2</th>\n",
       "      <td>most other parts of the world at no cost and w...</td>\n",
       "      <td>Conan Doyle</td>\n",
       "    </tr>\n",
       "    <tr>\n",
       "      <th>3</th>\n",
       "      <td>whatsoever. You may copy it, give it away or r...</td>\n",
       "      <td>Conan Doyle</td>\n",
       "    </tr>\n",
       "    <tr>\n",
       "      <th>4</th>\n",
       "      <td>of the Project Gutenberg License included with...</td>\n",
       "      <td>Conan Doyle</td>\n",
       "    </tr>\n",
       "    <tr>\n",
       "      <th>...</th>\n",
       "      <td>...</td>\n",
       "      <td>...</td>\n",
       "    </tr>\n",
       "    <tr>\n",
       "      <th>9621</th>\n",
       "      <td>facility: www.gutenberg.org</td>\n",
       "      <td>Conan Doyle</td>\n",
       "    </tr>\n",
       "    <tr>\n",
       "      <th>9622</th>\n",
       "      <td>This website includes information about Projec...</td>\n",
       "      <td>Conan Doyle</td>\n",
       "    </tr>\n",
       "    <tr>\n",
       "      <th>9623</th>\n",
       "      <td>including how to make donations to the Project...</td>\n",
       "      <td>Conan Doyle</td>\n",
       "    </tr>\n",
       "    <tr>\n",
       "      <th>9624</th>\n",
       "      <td>Archive Foundation, how to help produce our ne...</td>\n",
       "      <td>Conan Doyle</td>\n",
       "    </tr>\n",
       "    <tr>\n",
       "      <th>9625</th>\n",
       "      <td>subscribe to our email newsletter to hear abou...</td>\n",
       "      <td>Conan Doyle</td>\n",
       "    </tr>\n",
       "  </tbody>\n",
       "</table>\n",
       "<p>9626 rows × 2 columns</p>\n",
       "</div>"
      ],
      "text/plain": [
       "                                                Content       Author\n",
       "0     ï»¿The Project Gutenberg eBook of The Adventur...  Conan Doyle\n",
       "1     This eBook is for the use of anyone anywhere i...  Conan Doyle\n",
       "2     most other parts of the world at no cost and w...  Conan Doyle\n",
       "3     whatsoever. You may copy it, give it away or r...  Conan Doyle\n",
       "4     of the Project Gutenberg License included with...  Conan Doyle\n",
       "...                                                 ...          ...\n",
       "9621                        facility: www.gutenberg.org  Conan Doyle\n",
       "9622  This website includes information about Projec...  Conan Doyle\n",
       "9623  including how to make donations to the Project...  Conan Doyle\n",
       "9624  Archive Foundation, how to help produce our ne...  Conan Doyle\n",
       "9625  subscribe to our email newsletter to hear abou...  Conan Doyle\n",
       "\n",
       "[9626 rows x 2 columns]"
      ]
     },
     "execution_count": 5,
     "metadata": {},
     "output_type": "execute_result"
    }
   ],
   "source": [
    "data_doyle"
   ]
  },
  {
   "cell_type": "markdown",
   "metadata": {},
   "source": [
    "Importing Austen text file -"
   ]
  },
  {
   "cell_type": "code",
   "execution_count": 3,
   "metadata": {},
   "outputs": [],
   "source": [
    "data_austen = pd.read_csv('Austen.txt',header=None,sep='delimiter',encoding = 'unicode_escape', engine='python')"
   ]
  },
  {
   "cell_type": "code",
   "execution_count": 7,
   "metadata": {},
   "outputs": [
    {
     "data": {
      "text/html": [
       "<div>\n",
       "<style scoped>\n",
       "    .dataframe tbody tr th:only-of-type {\n",
       "        vertical-align: middle;\n",
       "    }\n",
       "\n",
       "    .dataframe tbody tr th {\n",
       "        vertical-align: top;\n",
       "    }\n",
       "\n",
       "    .dataframe thead th {\n",
       "        text-align: right;\n",
       "    }\n",
       "</style>\n",
       "<table border=\"1\" class=\"dataframe\">\n",
       "  <thead>\n",
       "    <tr style=\"text-align: right;\">\n",
       "      <th></th>\n",
       "      <th>Content</th>\n",
       "      <th>Author</th>\n",
       "    </tr>\n",
       "  </thead>\n",
       "  <tbody>\n",
       "    <tr>\n",
       "      <th>0</th>\n",
       "      <td>Project Gutenberg's The Complete Works of Jane...</td>\n",
       "      <td>Jane Austen</td>\n",
       "    </tr>\n",
       "    <tr>\n",
       "      <th>1</th>\n",
       "      <td>This eBook is for the use of anyone anywhere a...</td>\n",
       "      <td>Jane Austen</td>\n",
       "    </tr>\n",
       "    <tr>\n",
       "      <th>2</th>\n",
       "      <td>almost no restrictions whatsoever.  You may co...</td>\n",
       "      <td>Jane Austen</td>\n",
       "    </tr>\n",
       "    <tr>\n",
       "      <th>3</th>\n",
       "      <td>re-use it under the terms of the Project Guten...</td>\n",
       "      <td>Jane Austen</td>\n",
       "    </tr>\n",
       "    <tr>\n",
       "      <th>4</th>\n",
       "      <td>with this eBook or online at www.gutenberg.org</td>\n",
       "      <td>Jane Austen</td>\n",
       "    </tr>\n",
       "    <tr>\n",
       "      <th>...</th>\n",
       "      <td>...</td>\n",
       "      <td>...</td>\n",
       "    </tr>\n",
       "    <tr>\n",
       "      <th>67872</th>\n",
       "      <td>http://www.gutenberg.org</td>\n",
       "      <td>Jane Austen</td>\n",
       "    </tr>\n",
       "    <tr>\n",
       "      <th>67873</th>\n",
       "      <td>This Web site includes information about Proje...</td>\n",
       "      <td>Jane Austen</td>\n",
       "    </tr>\n",
       "    <tr>\n",
       "      <th>67874</th>\n",
       "      <td>including how to make donations to the Project...</td>\n",
       "      <td>Jane Austen</td>\n",
       "    </tr>\n",
       "    <tr>\n",
       "      <th>67875</th>\n",
       "      <td>Archive Foundation, how to help produce our ne...</td>\n",
       "      <td>Jane Austen</td>\n",
       "    </tr>\n",
       "    <tr>\n",
       "      <th>67876</th>\n",
       "      <td>subscribe to our email newsletter to hear abou...</td>\n",
       "      <td>Jane Austen</td>\n",
       "    </tr>\n",
       "  </tbody>\n",
       "</table>\n",
       "<p>67877 rows × 2 columns</p>\n",
       "</div>"
      ],
      "text/plain": [
       "                                                 Content       Author\n",
       "0      Project Gutenberg's The Complete Works of Jane...  Jane Austen\n",
       "1      This eBook is for the use of anyone anywhere a...  Jane Austen\n",
       "2      almost no restrictions whatsoever.  You may co...  Jane Austen\n",
       "3      re-use it under the terms of the Project Guten...  Jane Austen\n",
       "4         with this eBook or online at www.gutenberg.org  Jane Austen\n",
       "...                                                  ...          ...\n",
       "67872                           http://www.gutenberg.org  Jane Austen\n",
       "67873  This Web site includes information about Proje...  Jane Austen\n",
       "67874  including how to make donations to the Project...  Jane Austen\n",
       "67875  Archive Foundation, how to help produce our ne...  Jane Austen\n",
       "67876  subscribe to our email newsletter to hear abou...  Jane Austen\n",
       "\n",
       "[67877 rows x 2 columns]"
      ]
     },
     "execution_count": 7,
     "metadata": {},
     "output_type": "execute_result"
    }
   ],
   "source": [
    "data_austen.columns = ['Content']\n",
    "\n",
    "data_austen['Author'] = 'Jane Austen'\n",
    "\n",
    "data_austen"
   ]
  },
  {
   "cell_type": "markdown",
   "metadata": {},
   "source": [
    "Making sure that the data has uniform distribution of samples from Conan Doyle and Jane Austen (9626 instances each)."
   ]
  },
  {
   "cell_type": "code",
   "execution_count": 8,
   "metadata": {},
   "outputs": [],
   "source": [
    "data_austen = data_austen.iloc[:9626,:]"
   ]
  },
  {
   "cell_type": "code",
   "execution_count": 9,
   "metadata": {},
   "outputs": [
    {
     "name": "stdout",
     "output_type": "stream",
     "text": [
      "<class 'pandas.core.frame.DataFrame'>\n",
      "RangeIndex: 9626 entries, 0 to 9625\n",
      "Data columns (total 2 columns):\n",
      " #   Column   Non-Null Count  Dtype \n",
      "---  ------   --------------  ----- \n",
      " 0   Content  9626 non-null   object\n",
      " 1   Author   9626 non-null   object\n",
      "dtypes: object(2)\n",
      "memory usage: 150.5+ KB\n"
     ]
    }
   ],
   "source": [
    "data_doyle.info()"
   ]
  },
  {
   "cell_type": "code",
   "execution_count": 10,
   "metadata": {},
   "outputs": [
    {
     "name": "stdout",
     "output_type": "stream",
     "text": [
      "<class 'pandas.core.frame.DataFrame'>\n",
      "RangeIndex: 9626 entries, 0 to 9625\n",
      "Data columns (total 2 columns):\n",
      " #   Column   Non-Null Count  Dtype \n",
      "---  ------   --------------  ----- \n",
      " 0   Content  9626 non-null   object\n",
      " 1   Author   9626 non-null   object\n",
      "dtypes: object(2)\n",
      "memory usage: 150.5+ KB\n"
     ]
    }
   ],
   "source": [
    "data_austen.info()"
   ]
  },
  {
   "cell_type": "markdown",
   "metadata": {},
   "source": [
    "Now that we have equal number of instances, lets combine the two dataframes to form our dataset - "
   ]
  },
  {
   "cell_type": "code",
   "execution_count": 12,
   "metadata": {},
   "outputs": [
    {
     "data": {
      "text/html": [
       "<div>\n",
       "<style scoped>\n",
       "    .dataframe tbody tr th:only-of-type {\n",
       "        vertical-align: middle;\n",
       "    }\n",
       "\n",
       "    .dataframe tbody tr th {\n",
       "        vertical-align: top;\n",
       "    }\n",
       "\n",
       "    .dataframe thead th {\n",
       "        text-align: right;\n",
       "    }\n",
       "</style>\n",
       "<table border=\"1\" class=\"dataframe\">\n",
       "  <thead>\n",
       "    <tr style=\"text-align: right;\">\n",
       "      <th></th>\n",
       "      <th>Content</th>\n",
       "      <th>Author</th>\n",
       "    </tr>\n",
       "  </thead>\n",
       "  <tbody>\n",
       "    <tr>\n",
       "      <th>0</th>\n",
       "      <td>ï»¿The Project Gutenberg eBook of The Adventur...</td>\n",
       "      <td>Conan Doyle</td>\n",
       "    </tr>\n",
       "    <tr>\n",
       "      <th>1</th>\n",
       "      <td>This eBook is for the use of anyone anywhere i...</td>\n",
       "      <td>Conan Doyle</td>\n",
       "    </tr>\n",
       "    <tr>\n",
       "      <th>2</th>\n",
       "      <td>most other parts of the world at no cost and w...</td>\n",
       "      <td>Conan Doyle</td>\n",
       "    </tr>\n",
       "    <tr>\n",
       "      <th>3</th>\n",
       "      <td>whatsoever. You may copy it, give it away or r...</td>\n",
       "      <td>Conan Doyle</td>\n",
       "    </tr>\n",
       "    <tr>\n",
       "      <th>4</th>\n",
       "      <td>of the Project Gutenberg License included with...</td>\n",
       "      <td>Conan Doyle</td>\n",
       "    </tr>\n",
       "    <tr>\n",
       "      <th>...</th>\n",
       "      <td>...</td>\n",
       "      <td>...</td>\n",
       "    </tr>\n",
       "    <tr>\n",
       "      <th>9621</th>\n",
       "      <td>family whom she need now fear to meet. The eve...</td>\n",
       "      <td>Jane Austen</td>\n",
       "    </tr>\n",
       "    <tr>\n",
       "      <th>9622</th>\n",
       "      <td>more, for her than could have been expected.</td>\n",
       "      <td>Jane Austen</td>\n",
       "    </tr>\n",
       "    <tr>\n",
       "      <th>9623</th>\n",
       "      <td>CHAPTER 13</td>\n",
       "      <td>Jane Austen</td>\n",
       "    </tr>\n",
       "    <tr>\n",
       "      <th>9624</th>\n",
       "      <td>Monday, Tuesday, Wednesday, Thursday, Friday, ...</td>\n",
       "      <td>Jane Austen</td>\n",
       "    </tr>\n",
       "    <tr>\n",
       "      <th>9625</th>\n",
       "      <td>passed in review before the reader; the events...</td>\n",
       "      <td>Jane Austen</td>\n",
       "    </tr>\n",
       "  </tbody>\n",
       "</table>\n",
       "<p>19252 rows × 2 columns</p>\n",
       "</div>"
      ],
      "text/plain": [
       "                                                Content       Author\n",
       "0     ï»¿The Project Gutenberg eBook of The Adventur...  Conan Doyle\n",
       "1     This eBook is for the use of anyone anywhere i...  Conan Doyle\n",
       "2     most other parts of the world at no cost and w...  Conan Doyle\n",
       "3     whatsoever. You may copy it, give it away or r...  Conan Doyle\n",
       "4     of the Project Gutenberg License included with...  Conan Doyle\n",
       "...                                                 ...          ...\n",
       "9621  family whom she need now fear to meet. The eve...  Jane Austen\n",
       "9622       more, for her than could have been expected.  Jane Austen\n",
       "9623                                         CHAPTER 13  Jane Austen\n",
       "9624  Monday, Tuesday, Wednesday, Thursday, Friday, ...  Jane Austen\n",
       "9625  passed in review before the reader; the events...  Jane Austen\n",
       "\n",
       "[19252 rows x 2 columns]"
      ]
     },
     "execution_count": 12,
     "metadata": {},
     "output_type": "execute_result"
    }
   ],
   "source": [
    "frames = [data_doyle,data_austen]\n",
    "data_combined = pd.concat(frames)\n",
    "data_combined"
   ]
  },
  {
   "cell_type": "markdown",
   "metadata": {},
   "source": [
    "It can be seen that the index being shown is incorrect, as it has been carried on from the previous dataframes. Let's fix that -"
   ]
  },
  {
   "cell_type": "code",
   "execution_count": 13,
   "metadata": {},
   "outputs": [
    {
     "data": {
      "text/html": [
       "<div>\n",
       "<style scoped>\n",
       "    .dataframe tbody tr th:only-of-type {\n",
       "        vertical-align: middle;\n",
       "    }\n",
       "\n",
       "    .dataframe tbody tr th {\n",
       "        vertical-align: top;\n",
       "    }\n",
       "\n",
       "    .dataframe thead th {\n",
       "        text-align: right;\n",
       "    }\n",
       "</style>\n",
       "<table border=\"1\" class=\"dataframe\">\n",
       "  <thead>\n",
       "    <tr style=\"text-align: right;\">\n",
       "      <th></th>\n",
       "      <th>Content</th>\n",
       "      <th>Author</th>\n",
       "    </tr>\n",
       "  </thead>\n",
       "  <tbody>\n",
       "    <tr>\n",
       "      <th>0</th>\n",
       "      <td>ï»¿The Project Gutenberg eBook of The Adventur...</td>\n",
       "      <td>Conan Doyle</td>\n",
       "    </tr>\n",
       "    <tr>\n",
       "      <th>1</th>\n",
       "      <td>This eBook is for the use of anyone anywhere i...</td>\n",
       "      <td>Conan Doyle</td>\n",
       "    </tr>\n",
       "    <tr>\n",
       "      <th>2</th>\n",
       "      <td>most other parts of the world at no cost and w...</td>\n",
       "      <td>Conan Doyle</td>\n",
       "    </tr>\n",
       "    <tr>\n",
       "      <th>3</th>\n",
       "      <td>whatsoever. You may copy it, give it away or r...</td>\n",
       "      <td>Conan Doyle</td>\n",
       "    </tr>\n",
       "    <tr>\n",
       "      <th>4</th>\n",
       "      <td>of the Project Gutenberg License included with...</td>\n",
       "      <td>Conan Doyle</td>\n",
       "    </tr>\n",
       "    <tr>\n",
       "      <th>...</th>\n",
       "      <td>...</td>\n",
       "      <td>...</td>\n",
       "    </tr>\n",
       "    <tr>\n",
       "      <th>19247</th>\n",
       "      <td>family whom she need now fear to meet. The eve...</td>\n",
       "      <td>Jane Austen</td>\n",
       "    </tr>\n",
       "    <tr>\n",
       "      <th>19248</th>\n",
       "      <td>more, for her than could have been expected.</td>\n",
       "      <td>Jane Austen</td>\n",
       "    </tr>\n",
       "    <tr>\n",
       "      <th>19249</th>\n",
       "      <td>CHAPTER 13</td>\n",
       "      <td>Jane Austen</td>\n",
       "    </tr>\n",
       "    <tr>\n",
       "      <th>19250</th>\n",
       "      <td>Monday, Tuesday, Wednesday, Thursday, Friday, ...</td>\n",
       "      <td>Jane Austen</td>\n",
       "    </tr>\n",
       "    <tr>\n",
       "      <th>19251</th>\n",
       "      <td>passed in review before the reader; the events...</td>\n",
       "      <td>Jane Austen</td>\n",
       "    </tr>\n",
       "  </tbody>\n",
       "</table>\n",
       "<p>19252 rows × 2 columns</p>\n",
       "</div>"
      ],
      "text/plain": [
       "                                                 Content       Author\n",
       "0      ï»¿The Project Gutenberg eBook of The Adventur...  Conan Doyle\n",
       "1      This eBook is for the use of anyone anywhere i...  Conan Doyle\n",
       "2      most other parts of the world at no cost and w...  Conan Doyle\n",
       "3      whatsoever. You may copy it, give it away or r...  Conan Doyle\n",
       "4      of the Project Gutenberg License included with...  Conan Doyle\n",
       "...                                                  ...          ...\n",
       "19247  family whom she need now fear to meet. The eve...  Jane Austen\n",
       "19248       more, for her than could have been expected.  Jane Austen\n",
       "19249                                         CHAPTER 13  Jane Austen\n",
       "19250  Monday, Tuesday, Wednesday, Thursday, Friday, ...  Jane Austen\n",
       "19251  passed in review before the reader; the events...  Jane Austen\n",
       "\n",
       "[19252 rows x 2 columns]"
      ]
     },
     "execution_count": 13,
     "metadata": {},
     "output_type": "execute_result"
    }
   ],
   "source": [
    "data_combined = data_combined.reset_index(drop=True)\n",
    "data_combined"
   ]
  },
  {
   "cell_type": "markdown",
   "metadata": {},
   "source": [
    "Let's put labels on our data, 0 if the Author is Doyle and 1 if the author is Austen - "
   ]
  },
  {
   "cell_type": "code",
   "execution_count": 14,
   "metadata": {},
   "outputs": [
    {
     "data": {
      "text/html": [
       "<div>\n",
       "<style scoped>\n",
       "    .dataframe tbody tr th:only-of-type {\n",
       "        vertical-align: middle;\n",
       "    }\n",
       "\n",
       "    .dataframe tbody tr th {\n",
       "        vertical-align: top;\n",
       "    }\n",
       "\n",
       "    .dataframe thead th {\n",
       "        text-align: right;\n",
       "    }\n",
       "</style>\n",
       "<table border=\"1\" class=\"dataframe\">\n",
       "  <thead>\n",
       "    <tr style=\"text-align: right;\">\n",
       "      <th></th>\n",
       "      <th>Content</th>\n",
       "      <th>Author</th>\n",
       "      <th>label</th>\n",
       "    </tr>\n",
       "  </thead>\n",
       "  <tbody>\n",
       "    <tr>\n",
       "      <th>0</th>\n",
       "      <td>ï»¿The Project Gutenberg eBook of The Adventur...</td>\n",
       "      <td>Conan Doyle</td>\n",
       "      <td>0</td>\n",
       "    </tr>\n",
       "    <tr>\n",
       "      <th>1</th>\n",
       "      <td>This eBook is for the use of anyone anywhere i...</td>\n",
       "      <td>Conan Doyle</td>\n",
       "      <td>0</td>\n",
       "    </tr>\n",
       "    <tr>\n",
       "      <th>2</th>\n",
       "      <td>most other parts of the world at no cost and w...</td>\n",
       "      <td>Conan Doyle</td>\n",
       "      <td>0</td>\n",
       "    </tr>\n",
       "    <tr>\n",
       "      <th>3</th>\n",
       "      <td>whatsoever. You may copy it, give it away or r...</td>\n",
       "      <td>Conan Doyle</td>\n",
       "      <td>0</td>\n",
       "    </tr>\n",
       "    <tr>\n",
       "      <th>4</th>\n",
       "      <td>of the Project Gutenberg License included with...</td>\n",
       "      <td>Conan Doyle</td>\n",
       "      <td>0</td>\n",
       "    </tr>\n",
       "    <tr>\n",
       "      <th>...</th>\n",
       "      <td>...</td>\n",
       "      <td>...</td>\n",
       "      <td>...</td>\n",
       "    </tr>\n",
       "    <tr>\n",
       "      <th>19247</th>\n",
       "      <td>family whom she need now fear to meet. The eve...</td>\n",
       "      <td>Jane Austen</td>\n",
       "      <td>1</td>\n",
       "    </tr>\n",
       "    <tr>\n",
       "      <th>19248</th>\n",
       "      <td>more, for her than could have been expected.</td>\n",
       "      <td>Jane Austen</td>\n",
       "      <td>1</td>\n",
       "    </tr>\n",
       "    <tr>\n",
       "      <th>19249</th>\n",
       "      <td>CHAPTER 13</td>\n",
       "      <td>Jane Austen</td>\n",
       "      <td>1</td>\n",
       "    </tr>\n",
       "    <tr>\n",
       "      <th>19250</th>\n",
       "      <td>Monday, Tuesday, Wednesday, Thursday, Friday, ...</td>\n",
       "      <td>Jane Austen</td>\n",
       "      <td>1</td>\n",
       "    </tr>\n",
       "    <tr>\n",
       "      <th>19251</th>\n",
       "      <td>passed in review before the reader; the events...</td>\n",
       "      <td>Jane Austen</td>\n",
       "      <td>1</td>\n",
       "    </tr>\n",
       "  </tbody>\n",
       "</table>\n",
       "<p>19252 rows × 3 columns</p>\n",
       "</div>"
      ],
      "text/plain": [
       "                                                 Content       Author  label\n",
       "0      ï»¿The Project Gutenberg eBook of The Adventur...  Conan Doyle      0\n",
       "1      This eBook is for the use of anyone anywhere i...  Conan Doyle      0\n",
       "2      most other parts of the world at no cost and w...  Conan Doyle      0\n",
       "3      whatsoever. You may copy it, give it away or r...  Conan Doyle      0\n",
       "4      of the Project Gutenberg License included with...  Conan Doyle      0\n",
       "...                                                  ...          ...    ...\n",
       "19247  family whom she need now fear to meet. The eve...  Jane Austen      1\n",
       "19248       more, for her than could have been expected.  Jane Austen      1\n",
       "19249                                         CHAPTER 13  Jane Austen      1\n",
       "19250  Monday, Tuesday, Wednesday, Thursday, Friday, ...  Jane Austen      1\n",
       "19251  passed in review before the reader; the events...  Jane Austen      1\n",
       "\n",
       "[19252 rows x 3 columns]"
      ]
     },
     "execution_count": 14,
     "metadata": {},
     "output_type": "execute_result"
    }
   ],
   "source": [
    "data_combined['label'] = data_combined['Author'].apply(lambda x: 0 if x=='Conan Doyle' else 1)\n",
    "data_combined"
   ]
  },
  {
   "cell_type": "markdown",
   "metadata": {},
   "source": [
    "#### Training and Test sets -"
   ]
  },
  {
   "cell_type": "code",
   "execution_count": 15,
   "metadata": {},
   "outputs": [],
   "source": [
    "from sklearn.model_selection import train_test_split\n",
    "X_train, X_test, y_train, y_test = train_test_split(data_combined['Content'], data_combined['label'], random_state=1)"
   ]
  },
  {
   "cell_type": "markdown",
   "metadata": {},
   "source": [
    "### Count Vectorization and Model Building\n",
    "\n",
    "Converting abstract content into word count vectors. This way, the Naive Bayes classifier can quantify the occurence of a particular word in each category -"
   ]
  },
  {
   "cell_type": "code",
   "execution_count": 16,
   "metadata": {},
   "outputs": [],
   "source": [
    "from sklearn.feature_extraction.text import CountVectorizer\n",
    "cv = CountVectorizer(strip_accents='ascii', token_pattern=u'(?ui)\\\\b\\\\w*[a-z]+\\\\w*\\\\b', lowercase=True, stop_words='english')\n",
    "X_train_cv = cv.fit_transform(X_train)\n",
    "X_test_cv = cv.transform(X_test)"
   ]
  },
  {
   "cell_type": "code",
   "execution_count": 17,
   "metadata": {},
   "outputs": [],
   "source": [
    "from sklearn.naive_bayes import MultinomialNB\n",
    "naive_bayes = MultinomialNB()\n",
    "naive_bayes.fit(X_train_cv, y_train)\n",
    "predictions = naive_bayes.predict(X_test_cv)"
   ]
  },
  {
   "cell_type": "markdown",
   "metadata": {},
   "source": [
    "### Evaluation"
   ]
  },
  {
   "cell_type": "code",
   "execution_count": 18,
   "metadata": {},
   "outputs": [
    {
     "name": "stdout",
     "output_type": "stream",
     "text": [
      "Accuracy score:  0.8599626012881778\n",
      "Precision score:  0.8373565492679066\n",
      "Recall score:  0.8894493484657419\n",
      "Confusion Matrix:\n",
      " [[2023  411]\n",
      " [ 263 2116]]\n"
     ]
    }
   ],
   "source": [
    "from sklearn.metrics import accuracy_score, precision_score, recall_score, confusion_matrix\n",
    "print('Accuracy score: ', accuracy_score(y_test, predictions))\n",
    "print('Precision score: ', precision_score(y_test, predictions))\n",
    "print('Recall score: ', recall_score(y_test, predictions))\n",
    "print('Confusion Matrix:\\n', confusion_matrix(y_test,predictions))"
   ]
  },
  {
   "cell_type": "markdown",
   "metadata": {},
   "source": [
    "We have achieved an accuracy of about 86% in successfully predicting the Author from an abstract from their written works."
   ]
  },
  {
   "cell_type": "code",
   "execution_count": 19,
   "metadata": {},
   "outputs": [
    {
     "name": "stdout",
     "output_type": "stream",
     "text": [
      "              precision    recall  f1-score   support\n",
      "\n",
      "           0       0.88      0.83      0.86      2434\n",
      "           1       0.84      0.89      0.86      2379\n",
      "\n",
      "    accuracy                           0.86      4813\n",
      "   macro avg       0.86      0.86      0.86      4813\n",
      "weighted avg       0.86      0.86      0.86      4813\n",
      "\n"
     ]
    }
   ],
   "source": [
    "from sklearn.metrics import classification_report\n",
    "\n",
    "print(classification_report(y_test, predictions))"
   ]
  }
 ],
 "metadata": {
  "kernelspec": {
   "display_name": "Python 3",
   "language": "python",
   "name": "python3"
  },
  "language_info": {
   "codemirror_mode": {
    "name": "ipython",
    "version": 3
   },
   "file_extension": ".py",
   "mimetype": "text/x-python",
   "name": "python",
   "nbconvert_exporter": "python",
   "pygments_lexer": "ipython3",
   "version": "3.7.2"
  }
 },
 "nbformat": 4,
 "nbformat_minor": 2
}
